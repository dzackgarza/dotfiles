{
 "cells": [
  {
   "cell_type": "code",
   "execution_count": 24,
   "metadata": {
    "collapsed": true
   },
   "outputs": [],
   "source": [
    "%display latex"
   ]
  },
  {
   "cell_type": "code",
   "execution_count": null,
   "metadata": {
    "collapsed": false
   },
   "outputs": [],
   "source": [
    "var('x,t')\n",
    "implicit_multiplication(10)"
   ]
  },
  {
   "cell_type": "code",
   "execution_count": null,
   "metadata": {
    "collapsed": false
   },
   "outputs": [],
   "source": []
  },
  {
   "cell_type": "code",
   "execution_count": null,
   "metadata": {
    "collapsed": false
   },
   "outputs": [],
   "source": [
    "R.<x, t> = PolynomialRing(QQ)\n",
    "f = (x^6 - 5*x^4 + 6*x^2 - 1)*t^5 + (x^5 - 4*x^3 + 3*x^2)*t^6\n",
    "g = x*t^2-x^2*t+x\n",
    "\n",
    "h = f.quo_rem(g)\n",
    "show(h[0])\n",
    "show('\\n')\n",
    "show(h[1])"
   ]
  },
  {
   "cell_type": "code",
   "execution_count": null,
   "metadata": {
    "collapsed": false
   },
   "outputs": [],
   "source": [
    "p = f // g\n",
    "p."
   ]
  },
  {
   "cell_type": "code",
   "execution_count": null,
   "metadata": {
    "collapsed": false
   },
   "outputs": [],
   "source": [
    "p.reduced_form()"
   ]
  },
  {
   "cell_type": "code",
   "execution_count": null,
   "metadata": {
    "collapsed": false
   },
   "outputs": [],
   "source": [
    "p.simplify()"
   ]
  },
  {
   "cell_type": "code",
   "execution_count": 68,
   "metadata": {
    "collapsed": false
   },
   "outputs": [
    {
     "data": {
      "text/html": [
       "<html><script type=\"math/tex; mode=display\">\\newcommand{\\Bold}[1]{\\mathbf{#1}}\\left(\\begin{array}{rr}\n",
       "1 & 2 \\\\\n",
       "7 & 4 \\\\\n",
       "-1 & 2\n",
       "\\end{array}\\right)</script></html>"
      ],
      "text/plain": [
       "[ 1  2]\n",
       "[ 7  4]\n",
       "[-1  2]"
      ]
     },
     "metadata": {},
     "output_type": "display_data"
    },
    {
     "data": {
      "text/html": [
       "<html><script type=\"math/tex; mode=display\">\\newcommand{\\Bold}[1]{\\mathbf{#1}}\\left(3,\\,2,\\,1\\right)</script></html>"
      ],
      "text/plain": [
       "(3, 2, 1)"
      ]
     },
     "metadata": {},
     "output_type": "display_data"
    }
   ],
   "source": [
    "A = Matrix([[1,2],[7,4],[-1,2]])\n",
    "b = vector([3,2,1])\n",
    "show(A)\n",
    "show(b)"
   ]
  },
  {
   "cell_type": "code",
   "execution_count": 69,
   "metadata": {
    "collapsed": false
   },
   "outputs": [
    {
     "data": {
      "text/html": [
       "<html><script type=\"math/tex; mode=display\">\\newcommand{\\Bold}[1]{\\mathbf{#1}}\\left(\\begin{array}{rr}\n",
       "1 & 0 \\\\\n",
       "0 & 1\n",
       "\\end{array}\\right)</script></html>"
      ],
      "text/plain": [
       "[1 0]\n",
       "[0 1]"
      ]
     },
     "execution_count": 69,
     "metadata": {},
     "output_type": "execute_result"
    }
   ],
   "source": [
    "(A.T*A).rref()"
   ]
  },
  {
   "cell_type": "code",
   "execution_count": 70,
   "metadata": {
    "collapsed": false
   },
   "outputs": [
    {
     "data": {
      "text/html": [
       "<html><script type=\"math/tex; mode=display\">\\newcommand{\\Bold}[1]{\\mathbf{#1}}\\left(-\\frac{8}{55},\\,\\frac{46}{55}\\right)</script></html>"
      ],
      "text/plain": [
       "(-8/55, 46/55)"
      ]
     },
     "execution_count": 70,
     "metadata": {},
     "output_type": "execute_result"
    }
   ],
   "source": [
    "(A.T * A)^(-1) * A.T * b"
   ]
  },
  {
   "cell_type": "code",
   "execution_count": null,
   "metadata": {
    "collapsed": true
   },
   "outputs": [],
   "source": [
    "A = Matrix([[1,2,3],[3,2,1],[1,1,1]])\n",
    "w = vector([1,1,-4])"
   ]
  },
  {
   "cell_type": "code",
   "execution_count": 48,
   "metadata": {
    "collapsed": false
   },
   "outputs": [],
   "source": [
    "A = Matrix([[2/3, 2/3, 1/3], [1/sqrt(2), -1/sqrt(2), 0]])"
   ]
  },
  {
   "cell_type": "code",
   "execution_count": 56,
   "metadata": {
    "collapsed": false
   },
   "outputs": [
    {
     "data": {
      "text/html": [
       "<html><script type=\"math/tex; mode=display\">\\newcommand{\\Bold}[1]{\\mathbf{#1}}\\left(\\frac{5}{18},\\,\\frac{5}{18},\\,-\\frac{10}{9}\\right)</script></html>"
      ],
      "text/plain": [
       "(5/18, 5/18, -10/9)"
      ]
     },
     "metadata": {},
     "output_type": "display_data"
    },
    {
     "data": {
      "text/html": [
       "<html><script type=\"math/tex; mode=display\">\\newcommand{\\Bold}[1]{\\mathbf{#1}}0</script></html>"
      ],
      "text/plain": [
       "0"
      ]
     },
     "execution_count": 56,
     "metadata": {},
     "output_type": "execute_result"
    }
   ],
   "source": [
    "x = vector([1,2,2])\n",
    "p = (A.T*A) *x\n",
    "show(p-x)\n",
    "(p-x) * (1/3)*vector([2,2,1])"
   ]
  },
  {
   "cell_type": "code",
   "execution_count": 111,
   "metadata": {
    "collapsed": false
   },
   "outputs": [
    {
     "data": {
      "text/html": [
       "<html><script type=\"math/tex; mode=display\">\\newcommand{\\Bold}[1]{\\mathbf{#1}}\\left(\\begin{array}{rr}\n",
       "-1 & 3 \\\\\n",
       "1 & 5\n",
       "\\end{array}\\right)</script></html>"
      ],
      "text/plain": [
       "[-1  3]\n",
       "[ 1  5]"
      ]
     },
     "metadata": {},
     "output_type": "display_data"
    }
   ],
   "source": [
    "A = Matrix(SR, [[-1,3], [1,5]])\n",
    "show(A)"
   ]
  },
  {
   "cell_type": "code",
   "execution_count": 116,
   "metadata": {
    "collapsed": false
   },
   "outputs": [],
   "source": [
    "a = A.columns()\n",
    "abar = [v.normalized() for v in a]"
   ]
  },
  {
   "cell_type": "code",
   "execution_count": 117,
   "metadata": {
    "collapsed": false
   },
   "outputs": [
    {
     "data": {
      "text/html": [
       "<html><script type=\"math/tex; mode=display\">\\newcommand{\\Bold}[1]{\\mathbf{#1}}\\left[\\left(-1,\\,1\\right), \\left(3,\\,5\\right)\\right]</script></html>"
      ],
      "text/plain": [
       "[(-1, 1), (3, 5)]"
      ]
     },
     "metadata": {},
     "output_type": "display_data"
    },
    {
     "data": {
      "text/html": [
       "<html><script type=\"math/tex; mode=display\">\\newcommand{\\Bold}[1]{\\mathbf{#1}}\\left[\\left(-\\frac{1}{2} \\, \\sqrt{2},\\,\\frac{1}{2} \\, \\sqrt{2}\\right), \\left(\\frac{3}{34} \\, \\sqrt{34},\\,\\frac{5}{34} \\, \\sqrt{34}\\right)\\right]</script></html>"
      ],
      "text/plain": [
       "[(-1/2*sqrt(2), 1/2*sqrt(2)), (3/34*sqrt(34), 5/34*sqrt(34))]"
      ]
     },
     "metadata": {},
     "output_type": "display_data"
    }
   ],
   "source": [
    "show(a)\n",
    "show(abar)"
   ]
  },
  {
   "cell_type": "code",
   "execution_count": 194,
   "metadata": {
    "collapsed": true
   },
   "outputs": [],
   "source": [
    "def P(e,a):\n",
    "    return (e*a)*(e.normalized())"
   ]
  },
  {
   "cell_type": "code",
   "execution_count": 120,
   "metadata": {
    "collapsed": false
   },
   "outputs": [
    {
     "data": {
      "text/html": [
       "<html><script type=\"math/tex; mode=display\">\\newcommand{\\Bold}[1]{\\mathbf{#1}}\\left(\\frac{1}{2} \\, \\sqrt{2},\\,\\frac{1}{2} \\, \\sqrt{2}\\right)</script></html>"
      ],
      "text/plain": [
       "(1/2*sqrt(2), 1/2*sqrt(2))"
      ]
     },
     "metadata": {},
     "output_type": "display_data"
    }
   ],
   "source": [
    "u1 = (a[1] - P(u0, a[1])).normalized()\n",
    "show(u1)"
   ]
  },
  {
   "cell_type": "code",
   "execution_count": 107,
   "metadata": {
    "collapsed": false
   },
   "outputs": [
    {
     "data": {
      "text/html": [
       "<html><script type=\"math/tex; mode=display\">\\newcommand{\\Bold}[1]{\\mathbf{#1}}\\left(9,\\,6\\right)</script></html>"
      ],
      "text/plain": [
       "(9, 6)"
      ]
     },
     "execution_count": 107,
     "metadata": {},
     "output_type": "execute_result"
    }
   ],
   "source": [
    "vector([1,1])*vector([1,2])*vector([3,2])"
   ]
  },
  {
   "cell_type": "code",
   "execution_count": 195,
   "metadata": {
    "collapsed": false
   },
   "outputs": [],
   "source": [
    "def GS(a):\n",
    "    u = [None] * len(a)\n",
    "    e = [None] * len(a)\n",
    "    for k in range(len(a)):\n",
    "        projs = [P(u[j], a[k]) for j in range(k)]\n",
    "        show(k, projs)\n",
    "        u[k] = (a[k] - sum(projs))\n",
    "        e[k] = (u[k]).normalized()\n",
    "    return (u, e)"
   ]
  },
  {
   "cell_type": "code",
   "execution_count": 197,
   "metadata": {
    "collapsed": false
   },
   "outputs": [
    {
     "data": {
      "text/html": [
       "<html><script type=\"math/tex; mode=display\">\\newcommand{\\Bold}[1]{\\mathbf{#1}}\\left(\\begin{array}{rrr}\n",
       "12 & -51 & 4 \\\\\n",
       "6 & 167 & -68 \\\\\n",
       "-4 & 24 & -41\n",
       "\\end{array}\\right)</script></html>"
      ],
      "text/plain": [
       "[ 12 -51   4]\n",
       "[  6 167 -68]\n",
       "[ -4  24 -41]"
      ]
     },
     "metadata": {},
     "output_type": "display_data"
    },
    {
     "data": {
      "text/html": [
       "<html><script type=\"math/tex; mode=display\">\\newcommand{\\Bold}[1]{\\mathbf{#1}}0 \\left[\\right]</script></html>"
      ],
      "text/plain": [
       "0 []"
      ]
     },
     "metadata": {},
     "output_type": "display_data"
    },
    {
     "data": {
      "text/html": [
       "<html><script type=\"math/tex; mode=display\">\\newcommand{\\Bold}[1]{\\mathbf{#1}}1 \\left[\\left(252,\\,126,\\,-84\\right)\\right]</script></html>"
      ],
      "text/plain": [
       "1 [(252, 126, -84)]"
      ]
     },
     "metadata": {},
     "output_type": "display_data"
    },
    {
     "data": {
      "text/html": [
       "<html><script type=\"math/tex; mode=display\">\\newcommand{\\Bold}[1]{\\mathbf{#1}}2 \\left[\\left(-168,\\,-84,\\,56\\right), \\left(\\frac{182406}{1073} \\, \\sqrt{2146},\\,-\\frac{24682}{1073} \\, \\sqrt{2146},\\,-\\frac{65016}{1073} \\, \\sqrt{2146}\\right)\\right]</script></html>"
      ],
      "text/plain": [
       "2 [(-168, -84, 56),\n",
       " (182406/1073*sqrt(2146), -24682/1073*sqrt(2146), -65016/1073*sqrt(2146))]"
      ]
     },
     "metadata": {},
     "output_type": "display_data"
    },
    {
     "name": "stdout",
     "output_type": "stream",
     "text": [
      "done\n"
     ]
    }
   ],
   "source": [
    "A = Matrix(SR, [[12,-51,4], [6,167,-68],[-4,24,-41]])\n",
    "show(A)\n",
    "GS(A.columns())\n",
    "print \"done\""
   ]
  },
  {
   "cell_type": "code",
   "execution_count": 142,
   "metadata": {
    "collapsed": false
   },
   "outputs": [
    {
     "data": {
      "text/html": [
       "<html><script type=\"math/tex; mode=display\">\\newcommand{\\Bold}[1]{\\mathbf{#1}}\\left(8,\\,5\\right)</script></html>"
      ],
      "text/plain": [
       "(8, 5)"
      ]
     },
     "execution_count": 142,
     "metadata": {},
     "output_type": "execute_result"
    }
   ],
   "source": [
    "sum([3*vector([1,1]), -1*vector([1,2]), 2*vector([3,2])])"
   ]
  },
  {
   "cell_type": "code",
   "execution_count": 136,
   "metadata": {
    "collapsed": false
   },
   "outputs": [
    {
     "data": {
      "text/html": [
       "<html><script type=\"math/tex; mode=display\">\\newcommand{\\Bold}[1]{\\mathbf{#1}}\\left[0\\right]</script></html>"
      ],
      "text/plain": [
       "[0]"
      ]
     },
     "execution_count": 136,
     "metadata": {},
     "output_type": "execute_result"
    }
   ],
   "source": [
    "range(1)"
   ]
  },
  {
   "cell_type": "code",
   "execution_count": 201,
   "metadata": {
    "collapsed": false
   },
   "outputs": [],
   "source": [
    "u1bar = vector([12,6,-4]).normalized()"
   ]
  },
  {
   "cell_type": "code",
   "execution_count": 202,
   "metadata": {
    "collapsed": false
   },
   "outputs": [
    {
     "data": {
      "text/html": [
       "<html><script type=\"math/tex; mode=display\">\\newcommand{\\Bold}[1]{\\mathbf{#1}}294</script></html>"
      ],
      "text/plain": [
       "294"
      ]
     },
     "execution_count": 202,
     "metadata": {},
     "output_type": "execute_result"
    }
   ],
   "source": [
    "u1 = vector([12,6,-4])\n",
    "a2 = vector([-51,167,24])\n",
    "u1*a2"
   ]
  },
  {
   "cell_type": "code",
   "execution_count": 204,
   "metadata": {
    "collapsed": false
   },
   "outputs": [
    {
     "data": {
      "text/html": [
       "<html><script type=\"math/tex; mode=display\">\\newcommand{\\Bold}[1]{\\mathbf{#1}}\\left(-303,\\,41,\\,108\\right)</script></html>"
      ],
      "text/plain": [
       "(-303, 41, 108)"
      ]
     },
     "execution_count": 204,
     "metadata": {},
     "output_type": "execute_result"
    }
   ],
   "source": [
    "a2-(u1*a2)*u1bar"
   ]
  },
  {
   "cell_type": "code",
   "execution_count": 205,
   "metadata": {
    "collapsed": false
   },
   "outputs": [
    {
     "data": {
      "text/html": [
       "<html><script type=\"math/tex; mode=display\">\\newcommand{\\Bold}[1]{\\mathbf{#1}}\\frac{101}{23}</script></html>"
      ],
      "text/plain": [
       "101/23"
      ]
     },
     "execution_count": 205,
     "metadata": {},
     "output_type": "execute_result"
    }
   ],
   "source": []
  },
  {
   "cell_type": "code",
   "execution_count": 212,
   "metadata": {
    "collapsed": false
   },
   "outputs": [
    {
     "data": {
      "text/html": [
       "<html><script type=\"math/tex; mode=display\">\\newcommand{\\Bold}[1]{\\mathbf{#1}}\\left(\\begin{array}{rr}\n",
       "-1 & 1 \\\\\n",
       "1 & 1\n",
       "\\end{array}\\right)</script></html>"
      ],
      "text/plain": [
       "[-1  1]\n",
       "[ 1  1]"
      ]
     },
     "execution_count": 212,
     "metadata": {},
     "output_type": "execute_result"
    }
   ],
   "source": [
    "A = Matrix([[-1,1],[1,1]])\n",
    "A.T"
   ]
  },
  {
   "cell_type": "code",
   "execution_count": 213,
   "metadata": {
    "collapsed": false
   },
   "outputs": [
    {
     "data": {
      "text/html": [
       "<html><script type=\"math/tex; mode=display\">\\newcommand{\\Bold}[1]{\\mathbf{#1}}\\left(\\begin{array}{rr}\n",
       "2 & 2 \\\\\n",
       "0 & 8\n",
       "\\end{array}\\right)</script></html>"
      ],
      "text/plain": [
       "[2 2]\n",
       "[0 8]"
      ]
     },
     "execution_count": 213,
     "metadata": {},
     "output_type": "execute_result"
    }
   ],
   "source": [
    "A * Matrix([[-1,3], [1,5]])"
   ]
  },
  {
   "cell_type": "code",
   "execution_count": 220,
   "metadata": {
    "collapsed": false
   },
   "outputs": [
    {
     "data": {
      "text/html": [
       "<html><script type=\"math/tex; mode=display\">\\newcommand{\\Bold}[1]{\\mathbf{#1}}\\left(\\begin{array}{rr}\n",
       "5 & -2 \\\\\n",
       "-2 & 8\n",
       "\\end{array}\\right)</script></html>"
      ],
      "text/plain": [
       "[ 5 -2]\n",
       "[-2  8]"
      ]
     },
     "metadata": {},
     "output_type": "display_data"
    }
   ],
   "source": [
    "A = Matrix(SR, [[2,-2], [1,2]])\n",
    "X = A.T * A\n",
    "show(X)"
   ]
  },
  {
   "cell_type": "code",
   "execution_count": 221,
   "metadata": {
    "collapsed": true
   },
   "outputs": [],
   "source": [
    "import numpy as np"
   ]
  },
  {
   "cell_type": "code",
   "execution_count": 223,
   "metadata": {
    "collapsed": false
   },
   "outputs": [
    {
     "ename": "AttributeError",
     "evalue": "'sage.matrix.matrix_symbolic_dense.Matrix_symbolic_dense' object has no attribute 'SVD'",
     "output_type": "error",
     "traceback": [
      "\u001b[0;31m---------------------------------------------------------------------------\u001b[0m",
      "\u001b[0;31mAttributeError\u001b[0m                            Traceback (most recent call last)",
      "\u001b[0;32m<ipython-input-223-bbf00bb3a2b5>\u001b[0m in \u001b[0;36m<module>\u001b[0;34m()\u001b[0m\n\u001b[0;32m----> 1\u001b[0;31m \u001b[0mX\u001b[0m\u001b[0;34m.\u001b[0m\u001b[0mSVD\u001b[0m\u001b[0;34m(\u001b[0m\u001b[0;34m)\u001b[0m\u001b[0;34m\u001b[0m\u001b[0m\n\u001b[0m",
      "\u001b[0;32msage/structure/element.pyx\u001b[0m in \u001b[0;36msage.structure.element.Element.__getattr__ (/usr/lib/sagemath//src/build/cythonized/sage/structure/element.c:4254)\u001b[0;34m()\u001b[0m\n",
      "\u001b[0;32msage/structure/element.pyx\u001b[0m in \u001b[0;36msage.structure.element.Element.getattr_from_category (/usr/lib/sagemath//src/build/cythonized/sage/structure/element.c:4363)\u001b[0;34m()\u001b[0m\n",
      "\u001b[0;32msage/structure/misc.pyx\u001b[0m in \u001b[0;36msage.structure.misc.getattr_from_other_class (/usr/lib/sagemath//src/build/cythonized/sage/structure/misc.c:1928)\u001b[0;34m()\u001b[0m\n",
      "\u001b[0;31mAttributeError\u001b[0m: 'sage.matrix.matrix_symbolic_dense.Matrix_symbolic_dense' object has no attribute 'SVD'"
     ]
    }
   ],
   "source": [
    "X.SVD()"
   ]
  },
  {
   "cell_type": "code",
   "execution_count": null,
   "metadata": {
    "collapsed": true
   },
   "outputs": [],
   "source": []
  }
 ],
 "metadata": {
  "kernelspec": {
   "display_name": "SageMath 7.5.1",
   "language": "",
   "name": "sagemath"
  },
  "language_info": {
   "codemirror_mode": {
    "name": "ipython",
    "version": 2
   },
   "file_extension": ".py",
   "mimetype": "text/x-python",
   "name": "python",
   "nbconvert_exporter": "python",
   "pygments_lexer": "ipython2",
   "version": "2.7.13"
  }
 },
 "nbformat": 4,
 "nbformat_minor": 0
}
