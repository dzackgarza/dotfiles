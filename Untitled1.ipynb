{
 "cells": [
  {
   "cell_type": "code",
   "execution_count": 4,
   "metadata": {
    "collapsed": false
   },
   "outputs": [
    {
     "name": "stdout",
     "output_type": "stream",
     "text": [
      "Using repo path: /home/zack/UCSD-SUMS.github.io\n",
      "Using events directory: events/past\n",
      "Event found: events/sp17/testevent.md; 2017-06-29 1:00:00\n",
      "Event is in the past, processing..\n",
      "Committing to git repository...\n",
      "Repository updated!\n"
     ]
    }
   ],
   "source": [
    "from git import Repo\n",
    "from dateutil.parser import parse\n",
    "import urllib2\n",
    "import os\n",
    "from time import sleep\n",
    "import datetime as dt\n",
    "\n",
    "repoPath = '{0}/UCSD-SUMS.github.io'.format(os.getcwd())\n",
    "print \"Using repo path: \" + str(repoPath)\n",
    "\n",
    "eventsDir ='events/past'\n",
    "print \"Using events directory: \" + str(eventsDir)\n",
    "\n",
    "repo = Repo(repoPath)\n",
    "\n",
    "def updateGit(fileName):\n",
    "    print 'Committing to git repository...'\n",
    "    repo.remotes.origin.pull()\n",
    "    repo.index.add([repo.working_dir + '/events/past'])\n",
    "    repo.index.commit('Event passed: {0}'.format(fileName))\n",
    "    repo.remotes.origin.push()\n",
    "    print 'Repository updated!'\n",
    "\n",
    "def checkRemote():\n",
    "    nextEvent = urllib2.urlopen('http://sums.ucsd.edu/events/next').read().split('\\n')\n",
    "    if (len(nextEvent) == 1):\n",
    "        print 'No new event found!'\n",
    "        return\n",
    "    else:\n",
    "        print 'Event found: {0}; {1}'.format(nextEvent[0], nextEvent[1])\n",
    "    nextEventTime = parse(nextEvent[1])\n",
    "    if (nextEventTime < dt.datetime.now()):\n",
    "        print 'Event is in the past, processing..'\n",
    "        os.system('echo {0} >> {1}/events/past.txt'.format(nextEvent[0], repoPath))\n",
    "        updateGit(nextEvent[0])\n",
    "    else:\n",
    "        print 'Event is in the future.'\n",
    "\n",
    "checkRemote()\n"
   ]
  },
  {
   "cell_type": "code",
   "execution_count": 2,
   "metadata": {
    "collapsed": false
   },
   "outputs": [
    {
     "data": {
      "text/plain": [
       "'/home/zack/UCSD-SUMS.github.io'"
      ]
     },
     "execution_count": 2,
     "metadata": {},
     "output_type": "execute_result"
    }
   ],
   "source": [
    "repo.working_dir"
   ]
  },
  {
   "cell_type": "code",
   "execution_count": null,
   "metadata": {
    "collapsed": true
   },
   "outputs": [],
   "source": []
  }
 ],
 "metadata": {
  "kernelspec": {
   "display_name": "Python 2",
   "language": "python",
   "name": "python2"
  },
  "language_info": {
   "codemirror_mode": {
    "name": "ipython",
    "version": 2
   },
   "file_extension": ".py",
   "mimetype": "text/x-python",
   "name": "python",
   "nbconvert_exporter": "python",
   "pygments_lexer": "ipython2",
   "version": "2.7.13"
  }
 },
 "nbformat": 4,
 "nbformat_minor": 0
}
